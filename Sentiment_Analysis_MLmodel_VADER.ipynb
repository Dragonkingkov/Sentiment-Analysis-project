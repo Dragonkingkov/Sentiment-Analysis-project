{
 "cells": [
  {
   "cell_type": "code",
   "execution_count": 3,
   "id": "fb4e965e-8ab0-4bbf-a8d2-552d2aa172fc",
   "metadata": {},
   "outputs": [],
   "source": [
    "import pandas as pd\n",
    "import numpy as np\n",
    "import joblib"
   ]
  },
  {
   "cell_type": "code",
   "execution_count": 4,
   "id": "fdfd045e-b07c-400a-8db4-bcd87a0290c5",
   "metadata": {},
   "outputs": [],
   "source": [
    "filename='model.sav'\n",
    "clf=joblib.load(open(filename,'rb'))"
   ]
  },
  {
   "cell_type": "code",
   "execution_count": 6,
   "id": "c1e9c7f7-c0b2-4a4f-a833-10740bb3b4f8",
   "metadata": {},
   "outputs": [],
   "source": [
    "df=pd.read_csv('train.csv',encoding='latin-1')"
   ]
  },
  {
   "cell_type": "code",
   "execution_count": 7,
   "id": "3b364a8d-cda3-4fa3-9900-99ef6f1b4623",
   "metadata": {},
   "outputs": [
    {
     "data": {
      "text/plain": [
       "Index(['ItemID', 'Sentiment', 'SentimentText'], dtype='object')"
      ]
     },
     "execution_count": 7,
     "metadata": {},
     "output_type": "execute_result"
    }
   ],
   "source": [
    "df.columns"
   ]
  },
  {
   "cell_type": "code",
   "execution_count": 9,
   "id": "df94217b-558c-4ae3-b15a-4abd1be907d9",
   "metadata": {},
   "outputs": [],
   "source": [
    "df=df.set_index('ItemID')"
   ]
  },
  {
   "cell_type": "code",
   "execution_count": 10,
   "id": "cde6923b-03cf-48a0-93d0-d5998b0ae3bb",
   "metadata": {},
   "outputs": [
    {
     "data": {
      "text/html": [
       "<div>\n",
       "<style scoped>\n",
       "    .dataframe tbody tr th:only-of-type {\n",
       "        vertical-align: middle;\n",
       "    }\n",
       "\n",
       "    .dataframe tbody tr th {\n",
       "        vertical-align: top;\n",
       "    }\n",
       "\n",
       "    .dataframe thead th {\n",
       "        text-align: right;\n",
       "    }\n",
       "</style>\n",
       "<table border=\"1\" class=\"dataframe\">\n",
       "  <thead>\n",
       "    <tr style=\"text-align: right;\">\n",
       "      <th></th>\n",
       "      <th>Sentiment</th>\n",
       "      <th>SentimentText</th>\n",
       "    </tr>\n",
       "    <tr>\n",
       "      <th>ItemID</th>\n",
       "      <th></th>\n",
       "      <th></th>\n",
       "    </tr>\n",
       "  </thead>\n",
       "  <tbody>\n",
       "    <tr>\n",
       "      <th>1</th>\n",
       "      <td>0</td>\n",
       "      <td>is so sad for my APL frie...</td>\n",
       "    </tr>\n",
       "    <tr>\n",
       "      <th>2</th>\n",
       "      <td>0</td>\n",
       "      <td>I missed the New Moon trail...</td>\n",
       "    </tr>\n",
       "    <tr>\n",
       "      <th>3</th>\n",
       "      <td>1</td>\n",
       "      <td>omg its already 7:30 :O</td>\n",
       "    </tr>\n",
       "    <tr>\n",
       "      <th>4</th>\n",
       "      <td>0</td>\n",
       "      <td>.. Omgaga. Im sooo  im gunna CRy. I'...</td>\n",
       "    </tr>\n",
       "    <tr>\n",
       "      <th>5</th>\n",
       "      <td>0</td>\n",
       "      <td>i think mi bf is cheating on me!!!   ...</td>\n",
       "    </tr>\n",
       "  </tbody>\n",
       "</table>\n",
       "</div>"
      ],
      "text/plain": [
       "        Sentiment                                      SentimentText\n",
       "ItemID                                                              \n",
       "1               0                       is so sad for my APL frie...\n",
       "2               0                     I missed the New Moon trail...\n",
       "3               1                            omg its already 7:30 :O\n",
       "4               0            .. Omgaga. Im sooo  im gunna CRy. I'...\n",
       "5               0           i think mi bf is cheating on me!!!   ..."
      ]
     },
     "execution_count": 10,
     "metadata": {},
     "output_type": "execute_result"
    }
   ],
   "source": [
    "df.head()"
   ]
  },
  {
   "cell_type": "code",
   "execution_count": 13,
   "id": "bb4db6f9-ed74-4cb5-9834-5f34e04aa62b",
   "metadata": {},
   "outputs": [],
   "source": [
    "import nltk\n",
    "from nltk.corpus import stopwords\n",
    "import re\n",
    "import string"
   ]
  },
  {
   "cell_type": "code",
   "execution_count": 49,
   "id": "f8bf86e2-cff9-4e9a-9919-ff9dd2080601",
   "metadata": {},
   "outputs": [],
   "source": [
    "stop_words=set(stopwords.words('english'))\n",
    "\n",
    "\n",
    "def cleaning_text(text):\n",
    "    # Removing urls\n",
    "    text=re.sub(r'http\\S+',' ',text)\n",
    "\n",
    "    # Remove @ usernames\n",
    "    text=re.sub(r'@\\w+',' ',text)\n",
    "\n",
    "    #Remove # mentions\n",
    "                \n",
    "    text=re.sub(r'#\\w+',' ',text)\n",
    "\n",
    "    # Remove html tags\n",
    "\n",
    "    text=re.sub(r'<.*?>',' ',text)\n",
    "\n",
    "    # Removing Stopwords\n",
    "    text=text.split()\n",
    "    text=' '.join([word for word in text if not word in stop_words])\n",
    "\n",
    "   # Removing Punctuations\n",
    "    for punctuation in string.punctuation:\n",
    "        text=text.replace(punctuation,'')\n",
    "    return text\n",
    "\n",
    "\n",
    "def clean_text_VADER(text):\n",
    "    # remove url\n",
    "    text=re.sub(r'http\\S+',' ',text)\n",
    "    # remove usernamess @\n",
    "    text=re.sub(r'@\\w+',' ',text)\n",
    "    # remove mentions #\n",
    "    text=re.sub(r'#\\w+',' ',text)\n",
    "    #html tags\n",
    "    text=re.sub(r'<.*?>',' ',text)\n",
    "\n",
    "    #text = text.lower()\n",
    "\n",
    "    # remove stop words\n",
    "    text = text.split()\n",
    "    text=' '.join([words for words in text if not words  in stop_words])\n",
    "\n",
    "    #remove punctuations\n",
    "    #text=re.sub(r'[^\\w\\s]','',text)\n",
    "\n",
    "   \n",
    "\n",
    "    return text\n",
    "    "
   ]
  },
  {
   "cell_type": "code",
   "execution_count": 32,
   "id": "de3a5336-e734-4cbf-83f5-3b967fd28870",
   "metadata": {},
   "outputs": [
    {
     "data": {
      "text/plain": [
       "'hurray shes awful'"
      ]
     },
     "execution_count": 32,
     "metadata": {},
     "output_type": "execute_result"
    }
   ],
   "source": [
    "text_cleaning_model(\"Hurray @sheela is #MId ,she's awful https:\\\\po\")"
   ]
  },
  {
   "cell_type": "code",
   "execution_count": 33,
   "id": "13e85fa8-7c30-4b8e-9e13-8daa67692e61",
   "metadata": {},
   "outputs": [
    {
     "data": {
      "text/plain": [
       "\"Hurray ,she's awful\""
      ]
     },
     "execution_count": 33,
     "metadata": {},
     "output_type": "execute_result"
    }
   ],
   "source": [
    "text_cleaning_VADER(\"Hurray @sheela is #MId ,she's awful https:\\\\po\")"
   ]
  },
  {
   "cell_type": "code",
   "execution_count": 34,
   "id": "72fa2672-17a0-45e9-8543-e94f53f577f5",
   "metadata": {},
   "outputs": [
    {
     "name": "stdout",
     "output_type": "stream",
     "text": [
      "Collecting vaderSentiment\n",
      "  Downloading vaderSentiment-3.3.2-py2.py3-none-any.whl.metadata (572 bytes)\n",
      "Requirement already satisfied: requests in c:\\users\\vkovi\\anaconda3\\lib\\site-packages (from vaderSentiment) (2.32.3)\n",
      "Requirement already satisfied: charset-normalizer<4,>=2 in c:\\users\\vkovi\\anaconda3\\lib\\site-packages (from requests->vaderSentiment) (3.3.2)\n",
      "Requirement already satisfied: idna<4,>=2.5 in c:\\users\\vkovi\\anaconda3\\lib\\site-packages (from requests->vaderSentiment) (3.7)\n",
      "Requirement already satisfied: urllib3<3,>=1.21.1 in c:\\users\\vkovi\\anaconda3\\lib\\site-packages (from requests->vaderSentiment) (2.2.3)\n",
      "Requirement already satisfied: certifi>=2017.4.17 in c:\\users\\vkovi\\anaconda3\\lib\\site-packages (from requests->vaderSentiment) (2024.8.30)\n",
      "Downloading vaderSentiment-3.3.2-py2.py3-none-any.whl (125 kB)\n",
      "Installing collected packages: vaderSentiment\n",
      "Successfully installed vaderSentiment-3.3.2\n"
     ]
    }
   ],
   "source": [
    "!pip install vaderSentiment\n"
   ]
  },
  {
   "cell_type": "code",
   "execution_count": 50,
   "id": "6d45b089-6327-49e1-af04-59602ea79532",
   "metadata": {},
   "outputs": [],
   "source": [
    "from sklearn.feature_extraction.text import CountVectorizer\n",
    "cv=CountVectorizer()\n",
    "X=df['SentimentText'].apply(lambda x:cleaning_text(x))\n",
    "X=cv.fit_transform(X)"
   ]
  },
  {
   "cell_type": "code",
   "execution_count": 44,
   "id": "dcaff1d9-a76a-4e8d-9ede-f8e5763a97f5",
   "metadata": {},
   "outputs": [
    {
     "data": {
      "text/plain": [
       "<99989x66020 sparse matrix of type '<class 'numpy.int64'>'\n",
       "\twith 712974 stored elements in Compressed Sparse Row format>"
      ]
     },
     "execution_count": 44,
     "metadata": {},
     "output_type": "execute_result"
    }
   ],
   "source": []
  },
  {
   "cell_type": "code",
   "execution_count": 46,
   "id": "48ae39a8-a502-4074-a74c-972558174398",
   "metadata": {},
   "outputs": [
    {
     "name": "stdin",
     "output_type": "stream",
     "text": [
      "Enter text for sentiment analysis:  stupid hero\n"
     ]
    },
    {
     "name": "stdout",
     "output_type": "stream",
     "text": [
      "\n",
      "VADER Sentiment Analysis:\n",
      "Positive score: 0.514\n",
      "Negative score: 0.486\n",
      "Neutral score: 0.000\n",
      "Compound score: 0.052\n",
      "Normalized compound score: 0.530\n",
      "ML model Prediction\n"
     ]
    }
   ],
   "source": [
    "from vaderSentiment.vaderSentiment import SentimentIntensityAnalyzer\n",
    "\n",
    "\n",
    "\n",
    "\n",
    "user_input = input(\"Enter text for sentiment analysis: \")\n",
    "cleaned_input_VADER = clean_text_VADER(user_input)\n",
    "\n",
    "sa=SentimentIntensityAnalyzer()\n",
    "\n",
    "\n",
    "\n",
    "\n",
    "\n",
    "\n",
    "vader_scores = sa.polarity_scores(text=cleaned_input_VADER)\n",
    "compound_normalized = round((1 + vader_scores['compound'])/2, 2)\n",
    "\n",
    "print(\"\\nVADER Sentiment Analysis:\")\n",
    "print(f\"Positive score: {vader_scores['pos']:.3f}\")\n",
    "print(f\"Negative score: {vader_scores['neg']:.3f}\")\n",
    "print(f\"Neutral score: {vader_scores['neu']:.3f}\")\n",
    "print(f\"Compound score: {vader_scores['compound']:.3f}\")\n",
    "print(f\"Normalized compound score: {compound_normalized:.3f}\")\n",
    "\n",
    "print('ML model Prediction')"
   ]
  },
  {
   "cell_type": "code",
   "execution_count": 41,
   "id": "7d9eb73b-0b20-4096-af42-60b80fe08f48",
   "metadata": {},
   "outputs": [
    {
     "data": {
      "text/html": [
       "<div>\n",
       "<style scoped>\n",
       "    .dataframe tbody tr th:only-of-type {\n",
       "        vertical-align: middle;\n",
       "    }\n",
       "\n",
       "    .dataframe tbody tr th {\n",
       "        vertical-align: top;\n",
       "    }\n",
       "\n",
       "    .dataframe thead th {\n",
       "        text-align: right;\n",
       "    }\n",
       "</style>\n",
       "<table border=\"1\" class=\"dataframe\">\n",
       "  <thead>\n",
       "    <tr style=\"text-align: right;\">\n",
       "      <th></th>\n",
       "      <th>Sentiment</th>\n",
       "      <th>SentimentText</th>\n",
       "    </tr>\n",
       "    <tr>\n",
       "      <th>ItemID</th>\n",
       "      <th></th>\n",
       "      <th></th>\n",
       "    </tr>\n",
       "  </thead>\n",
       "  <tbody>\n",
       "    <tr>\n",
       "      <th>1</th>\n",
       "      <td>0</td>\n",
       "      <td>is so sad for my APL frie...</td>\n",
       "    </tr>\n",
       "    <tr>\n",
       "      <th>2</th>\n",
       "      <td>0</td>\n",
       "      <td>I missed the New Moon trail...</td>\n",
       "    </tr>\n",
       "    <tr>\n",
       "      <th>3</th>\n",
       "      <td>1</td>\n",
       "      <td>omg its already 7:30 :O</td>\n",
       "    </tr>\n",
       "    <tr>\n",
       "      <th>4</th>\n",
       "      <td>0</td>\n",
       "      <td>.. Omgaga. Im sooo  im gunna CRy. I'...</td>\n",
       "    </tr>\n",
       "    <tr>\n",
       "      <th>5</th>\n",
       "      <td>0</td>\n",
       "      <td>i think mi bf is cheating on me!!!   ...</td>\n",
       "    </tr>\n",
       "    <tr>\n",
       "      <th>...</th>\n",
       "      <td>...</td>\n",
       "      <td>...</td>\n",
       "    </tr>\n",
       "    <tr>\n",
       "      <th>99996</th>\n",
       "      <td>0</td>\n",
       "      <td>@Cupcake  seems like a repeating problem   hop...</td>\n",
       "    </tr>\n",
       "    <tr>\n",
       "      <th>99997</th>\n",
       "      <td>1</td>\n",
       "      <td>@cupcake__ arrrr we both replied to each other...</td>\n",
       "    </tr>\n",
       "    <tr>\n",
       "      <th>99998</th>\n",
       "      <td>0</td>\n",
       "      <td>@CuPcAkE_2120 ya i thought so</td>\n",
       "    </tr>\n",
       "    <tr>\n",
       "      <th>99999</th>\n",
       "      <td>1</td>\n",
       "      <td>@Cupcake_Dollie Yes. Yes. I'm glad you had mor...</td>\n",
       "    </tr>\n",
       "    <tr>\n",
       "      <th>100000</th>\n",
       "      <td>1</td>\n",
       "      <td>@cupcake_kayla haha yes you do</td>\n",
       "    </tr>\n",
       "  </tbody>\n",
       "</table>\n",
       "<p>99989 rows × 2 columns</p>\n",
       "</div>"
      ],
      "text/plain": [
       "        Sentiment                                      SentimentText\n",
       "ItemID                                                              \n",
       "1               0                       is so sad for my APL frie...\n",
       "2               0                     I missed the New Moon trail...\n",
       "3               1                            omg its already 7:30 :O\n",
       "4               0            .. Omgaga. Im sooo  im gunna CRy. I'...\n",
       "5               0           i think mi bf is cheating on me!!!   ...\n",
       "...           ...                                                ...\n",
       "99996           0  @Cupcake  seems like a repeating problem   hop...\n",
       "99997           1  @cupcake__ arrrr we both replied to each other...\n",
       "99998           0                     @CuPcAkE_2120 ya i thought so \n",
       "99999           1  @Cupcake_Dollie Yes. Yes. I'm glad you had mor...\n",
       "100000          1                    @cupcake_kayla haha yes you do \n",
       "\n",
       "[99989 rows x 2 columns]"
      ]
     },
     "execution_count": 41,
     "metadata": {},
     "output_type": "execute_result"
    }
   ],
   "source": [
    "df"
   ]
  },
  {
   "cell_type": "code",
   "execution_count": 51,
   "id": "0e89dced-406e-4f4f-add7-f0507b2543ee",
   "metadata": {},
   "outputs": [
    {
     "name": "stdin",
     "output_type": "stream",
     "text": [
      "Enter text for sentiment analysis:  hero hot\n"
     ]
    }
   ],
   "source": [
    "user_input = input(\"Enter text for sentiment analysis: \")\n",
    "\n",
    "cleaned_input_model=text_cleaning_model(user_input)\n",
    "vec=cv.transform([cleaned_input_model]).toarray()\n",
    "\n",
    "ml_pred=clf.predict(vec)"
   ]
  },
  {
   "cell_type": "code",
   "execution_count": 53,
   "id": "0402709d-bf85-4831-b414-93589c7e0dd7",
   "metadata": {},
   "outputs": [
    {
     "data": {
      "text/plain": [
       "1"
      ]
     },
     "execution_count": 53,
     "metadata": {},
     "output_type": "execute_result"
    }
   ],
   "source": [
    "ml_pred[0]"
   ]
  },
  {
   "cell_type": "code",
   "execution_count": null,
   "id": "e708c094-bb31-4ec7-a0f2-632aedbc7e92",
   "metadata": {},
   "outputs": [],
   "source": []
  }
 ],
 "metadata": {
  "kernelspec": {
   "display_name": "Python 3 (ipykernel)",
   "language": "python",
   "name": "python3"
  },
  "language_info": {
   "codemirror_mode": {
    "name": "ipython",
    "version": 3
   },
   "file_extension": ".py",
   "mimetype": "text/x-python",
   "name": "python",
   "nbconvert_exporter": "python",
   "pygments_lexer": "ipython3",
   "version": "3.12.7"
  }
 },
 "nbformat": 4,
 "nbformat_minor": 5
}
